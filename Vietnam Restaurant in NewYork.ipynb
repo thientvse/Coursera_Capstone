{
    "cells": [
        {
            "cell_type": "markdown",
            "metadata": {
                "collapsed": true
            },
            "source": "# Capstone Project - The Battle of Neighborhoods"
        },
        {
            "cell_type": "markdown",
            "metadata": {},
            "source": "## Vietnamese Restaurant"
        },
        {
            "cell_type": "markdown",
            "metadata": {},
            "source": "### Introduction"
        },
        {
            "cell_type": "markdown",
            "metadata": {},
            "source": "New York City's demographics show that it is a large and ethnically diverse metropolis. It is the largest city in the United States with a long history of international immigration. New York City was home to nearly 8.5 million people in 2014, accounting for over 40% of the population of New York State and a slightly lower percentage of the New York metropolitan area, home to approximately 23.6 million. Over the last decade the city has been growing faster than the region. The New York region continues to be by far the leading metropolitan gateway for legal immigrants admitted into the United States.\n\nThroughout its history, New York City has been a major point of entry for immigrants; the term \"melting pot\" was coined to describe densely populated immigrant neighborhoods on the Lower East Side. As many as 800 languages are spoken in New York, making it the most linguistically diverse city in the world. English remains the most widely spoken language, although there are areas in the outer boroughs in which up to 25% of people speak English as an alternate language, and/or have limited or no English language fluency. English is least spoken in neighborhoods such as Flushing, Sunset Park, and Corona. (Source: Wiki)\n\nWith that cultural diversity, of course the cuisine will also be very rich. There are many eateries opened here serving many different subjects. In this project we will list and visualize all Vietnamese restaurants."
        },
        {
            "cell_type": "markdown",
            "metadata": {},
            "source": "### Data"
        },
        {
            "cell_type": "markdown",
            "metadata": {},
            "source": "We will use data:"
        },
        {
            "cell_type": "markdown",
            "metadata": {},
            "source": "- New York City data that contains list Boroughs, Neighborhoods along with their latitude and longitude:\n    - Data source : https://cocl.us/new_york_dataset\n    - We will use this dataset to explore the neighborhoods of new york.\n- Vietnamese restaurant in NewYork city:\n    - Use Foursquare API get info.\n- GeoSpace data:\n    - Data source : https://data.cityofnewyork.us/City-Government/Borough-Boundaries/tqmj-j8zm\n    - Visualize choropleth map "
        },
        {
            "cell_type": "code",
            "execution_count": null,
            "metadata": {},
            "outputs": [],
            "source": ""
        }
    ],
    "metadata": {
        "kernelspec": {
            "display_name": "Python 3.6",
            "language": "python",
            "name": "python3"
        },
        "language_info": {
            "codemirror_mode": {
                "name": "ipython",
                "version": 3
            },
            "file_extension": ".py",
            "mimetype": "text/x-python",
            "name": "python",
            "nbconvert_exporter": "python",
            "pygments_lexer": "ipython3",
            "version": "3.6.9"
        }
    },
    "nbformat": 4,
    "nbformat_minor": 1
}